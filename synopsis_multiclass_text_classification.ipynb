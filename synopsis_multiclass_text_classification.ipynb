{
  "nbformat": 4,
  "nbformat_minor": 0,
  "metadata": {
    "colab": {
      "name": "synopsis_multiclass_text_classification.ipynb",
      "provenance": [],
      "collapsed_sections": []
    },
    "kernelspec": {
      "name": "python3",
      "display_name": "Python 3"
    },
    "language_info": {
      "name": "python"
    },
    "accelerator": "GPU"
  },
  "cells": [
    {
      "cell_type": "markdown",
      "metadata": {
        "id": "G4Htdgnm-yKc"
      },
      "source": [
        "# Multiclass Text Classification"
      ]
    },
    {
      "cell_type": "markdown",
      "metadata": {
        "id": "7o-pfBHD-2IM"
      },
      "source": [
        "Pada latihan kali ini kita akan melakukan klasifikasi teks multikelas menggunakan lstm.\n",
        "\n",
        "Pada latihan ini kita akan menggunakan dataset yang berisi sinopsis dari beberapa film Indonesia dan genrenya. Tujuan kita adalah menentukan genre sebuah film berdasarkan sinopsisnya. Dataset dapat Anda unduh pada [tautan](https://www.kaggle.com/antoniuscs/imdb-synopsis-indonesian-movies) berikut."
      ]
    },
    {
      "cell_type": "markdown",
      "metadata": {
        "id": "WIxJ_s-k-_CE"
      },
      "source": [
        "Pada cell pertama impor library pandas dan ubah dataset menjadi dataframe. Kemudian buang kolom 'judul_film' karena kita hanya akan menggunakan sinopsis sebagai atribut untuk dilatih pada model."
      ]
    },
    {
      "cell_type": "code",
      "metadata": {
        "id": "5Xq0Zxc8-YGC"
      },
      "source": [
        "    import pandas as pd\n",
        "    df = pd.read_csv('/content/drive/MyDrive/Colab Notebooks/dicoding/dataset/imdb_indonesian_movies_2.csv')\n",
        "    df = df.drop(columns=['judul_film'])"
      ],
      "execution_count": null,
      "outputs": []
    },
    {
      "cell_type": "code",
      "metadata": {
        "colab": {
          "base_uri": "https://localhost:8080/",
          "height": 424
        },
        "id": "0qUyBaGe_Bm9",
        "outputId": "c4d01581-2d8a-4020-c089-a2b214d7b953"
      },
      "source": [
        "df"
      ],
      "execution_count": null,
      "outputs": [
        {
          "output_type": "execute_result",
          "data": {
            "text/html": [
              "<div>\n",
              "<style scoped>\n",
              "    .dataframe tbody tr th:only-of-type {\n",
              "        vertical-align: middle;\n",
              "    }\n",
              "\n",
              "    .dataframe tbody tr th {\n",
              "        vertical-align: top;\n",
              "    }\n",
              "\n",
              "    .dataframe thead th {\n",
              "        text-align: right;\n",
              "    }\n",
              "</style>\n",
              "<table border=\"1\" class=\"dataframe\">\n",
              "  <thead>\n",
              "    <tr style=\"text-align: right;\">\n",
              "      <th></th>\n",
              "      <th>ringkasan_sinopsis</th>\n",
              "      <th>genre</th>\n",
              "    </tr>\n",
              "  </thead>\n",
              "  <tbody>\n",
              "    <tr>\n",
              "      <th>0</th>\n",
              "      <td>Raden Mas Said putra sulung Tumenggung Wilarik...</td>\n",
              "      <td>Drama</td>\n",
              "    </tr>\n",
              "    <tr>\n",
              "      <th>1</th>\n",
              "      <td>Soe Hok Gie adalah seorang aktivis yang hidup ...</td>\n",
              "      <td>Drama</td>\n",
              "    </tr>\n",
              "    <tr>\n",
              "      <th>2</th>\n",
              "      <td>Guru Bangsa Tjokroaminoto menceritakan tentang...</td>\n",
              "      <td>Drama</td>\n",
              "    </tr>\n",
              "    <tr>\n",
              "      <th>3</th>\n",
              "      <td>POL menceritakan kisah hidup yang luar biasa d...</td>\n",
              "      <td>Drama</td>\n",
              "    </tr>\n",
              "    <tr>\n",
              "      <th>4</th>\n",
              "      <td>Perjalanan pahlawan Indonesia KH Ahmad Dahlan ...</td>\n",
              "      <td>Drama</td>\n",
              "    </tr>\n",
              "    <tr>\n",
              "      <th>...</th>\n",
              "      <td>...</td>\n",
              "      <td>...</td>\n",
              "    </tr>\n",
              "    <tr>\n",
              "      <th>1000</th>\n",
              "      <td>Winter in Tokyo berpusat pada kehidupan Ishida...</td>\n",
              "      <td>Romantis</td>\n",
              "    </tr>\n",
              "    <tr>\n",
              "      <th>1001</th>\n",
              "      <td>Markonah melarikan diri ke Jakarta karena akan...</td>\n",
              "      <td>Romantis</td>\n",
              "    </tr>\n",
              "    <tr>\n",
              "      <th>1002</th>\n",
              "      <td>Tempat aking lebih dari 36 jam, Last Night ada...</td>\n",
              "      <td>Romantis</td>\n",
              "    </tr>\n",
              "    <tr>\n",
              "      <th>1003</th>\n",
              "      <td>Proyek baru ini adalah tentang seorang lelaki ...</td>\n",
              "      <td>Romantis</td>\n",
              "    </tr>\n",
              "    <tr>\n",
              "      <th>1004</th>\n",
              "      <td>Atika (Meriam Bellina) mantan penyanyi tenar, ...</td>\n",
              "      <td>Romantis</td>\n",
              "    </tr>\n",
              "  </tbody>\n",
              "</table>\n",
              "<p>1005 rows × 2 columns</p>\n",
              "</div>"
            ],
            "text/plain": [
              "                                     ringkasan_sinopsis     genre\n",
              "0     Raden Mas Said putra sulung Tumenggung Wilarik...     Drama\n",
              "1     Soe Hok Gie adalah seorang aktivis yang hidup ...     Drama\n",
              "2     Guru Bangsa Tjokroaminoto menceritakan tentang...     Drama\n",
              "3     POL menceritakan kisah hidup yang luar biasa d...     Drama\n",
              "4     Perjalanan pahlawan Indonesia KH Ahmad Dahlan ...     Drama\n",
              "...                                                 ...       ...\n",
              "1000  Winter in Tokyo berpusat pada kehidupan Ishida...  Romantis\n",
              "1001  Markonah melarikan diri ke Jakarta karena akan...  Romantis\n",
              "1002  Tempat aking lebih dari 36 jam, Last Night ada...  Romantis\n",
              "1003  Proyek baru ini adalah tentang seorang lelaki ...  Romantis\n",
              "1004  Atika (Meriam Bellina) mantan penyanyi tenar, ...  Romantis\n",
              "\n",
              "[1005 rows x 2 columns]"
            ]
          },
          "metadata": {
            "tags": []
          },
          "execution_count": 23
        }
      ]
    },
    {
      "cell_type": "markdown",
      "metadata": {
        "id": "_M5ftYUg_RBd"
      },
      "source": [
        "Karena label kita berupa data kategorikal, maka kita perlu melakukan proses one-hot-encoding. Jalankan kode di bawah untuk melakukan one-hot-encoding dan membuat dataframe baru."
      ]
    },
    {
      "cell_type": "code",
      "metadata": {
        "colab": {
          "base_uri": "https://localhost:8080/",
          "height": 424
        },
        "id": "P_H3s8lq_LL-",
        "outputId": "75d9bde5-a97f-432c-f8bd-405ca7e373be"
      },
      "source": [
        "    category = pd.get_dummies(df.genre)\n",
        "    df_baru = pd.concat([df, category], axis=1)\n",
        "    df_baru = df_baru.drop(columns='genre')\n",
        "    df_baru"
      ],
      "execution_count": null,
      "outputs": [
        {
          "output_type": "execute_result",
          "data": {
            "text/html": [
              "<div>\n",
              "<style scoped>\n",
              "    .dataframe tbody tr th:only-of-type {\n",
              "        vertical-align: middle;\n",
              "    }\n",
              "\n",
              "    .dataframe tbody tr th {\n",
              "        vertical-align: top;\n",
              "    }\n",
              "\n",
              "    .dataframe thead th {\n",
              "        text-align: right;\n",
              "    }\n",
              "</style>\n",
              "<table border=\"1\" class=\"dataframe\">\n",
              "  <thead>\n",
              "    <tr style=\"text-align: right;\">\n",
              "      <th></th>\n",
              "      <th>ringkasan_sinopsis</th>\n",
              "      <th>Drama</th>\n",
              "      <th>Horor</th>\n",
              "      <th>Komedi</th>\n",
              "      <th>Laga</th>\n",
              "      <th>Romantis</th>\n",
              "    </tr>\n",
              "  </thead>\n",
              "  <tbody>\n",
              "    <tr>\n",
              "      <th>0</th>\n",
              "      <td>Raden Mas Said putra sulung Tumenggung Wilarik...</td>\n",
              "      <td>1</td>\n",
              "      <td>0</td>\n",
              "      <td>0</td>\n",
              "      <td>0</td>\n",
              "      <td>0</td>\n",
              "    </tr>\n",
              "    <tr>\n",
              "      <th>1</th>\n",
              "      <td>Soe Hok Gie adalah seorang aktivis yang hidup ...</td>\n",
              "      <td>1</td>\n",
              "      <td>0</td>\n",
              "      <td>0</td>\n",
              "      <td>0</td>\n",
              "      <td>0</td>\n",
              "    </tr>\n",
              "    <tr>\n",
              "      <th>2</th>\n",
              "      <td>Guru Bangsa Tjokroaminoto menceritakan tentang...</td>\n",
              "      <td>1</td>\n",
              "      <td>0</td>\n",
              "      <td>0</td>\n",
              "      <td>0</td>\n",
              "      <td>0</td>\n",
              "    </tr>\n",
              "    <tr>\n",
              "      <th>3</th>\n",
              "      <td>POL menceritakan kisah hidup yang luar biasa d...</td>\n",
              "      <td>1</td>\n",
              "      <td>0</td>\n",
              "      <td>0</td>\n",
              "      <td>0</td>\n",
              "      <td>0</td>\n",
              "    </tr>\n",
              "    <tr>\n",
              "      <th>4</th>\n",
              "      <td>Perjalanan pahlawan Indonesia KH Ahmad Dahlan ...</td>\n",
              "      <td>1</td>\n",
              "      <td>0</td>\n",
              "      <td>0</td>\n",
              "      <td>0</td>\n",
              "      <td>0</td>\n",
              "    </tr>\n",
              "    <tr>\n",
              "      <th>...</th>\n",
              "      <td>...</td>\n",
              "      <td>...</td>\n",
              "      <td>...</td>\n",
              "      <td>...</td>\n",
              "      <td>...</td>\n",
              "      <td>...</td>\n",
              "    </tr>\n",
              "    <tr>\n",
              "      <th>1000</th>\n",
              "      <td>Winter in Tokyo berpusat pada kehidupan Ishida...</td>\n",
              "      <td>0</td>\n",
              "      <td>0</td>\n",
              "      <td>0</td>\n",
              "      <td>0</td>\n",
              "      <td>1</td>\n",
              "    </tr>\n",
              "    <tr>\n",
              "      <th>1001</th>\n",
              "      <td>Markonah melarikan diri ke Jakarta karena akan...</td>\n",
              "      <td>0</td>\n",
              "      <td>0</td>\n",
              "      <td>0</td>\n",
              "      <td>0</td>\n",
              "      <td>1</td>\n",
              "    </tr>\n",
              "    <tr>\n",
              "      <th>1002</th>\n",
              "      <td>Tempat aking lebih dari 36 jam, Last Night ada...</td>\n",
              "      <td>0</td>\n",
              "      <td>0</td>\n",
              "      <td>0</td>\n",
              "      <td>0</td>\n",
              "      <td>1</td>\n",
              "    </tr>\n",
              "    <tr>\n",
              "      <th>1003</th>\n",
              "      <td>Proyek baru ini adalah tentang seorang lelaki ...</td>\n",
              "      <td>0</td>\n",
              "      <td>0</td>\n",
              "      <td>0</td>\n",
              "      <td>0</td>\n",
              "      <td>1</td>\n",
              "    </tr>\n",
              "    <tr>\n",
              "      <th>1004</th>\n",
              "      <td>Atika (Meriam Bellina) mantan penyanyi tenar, ...</td>\n",
              "      <td>0</td>\n",
              "      <td>0</td>\n",
              "      <td>0</td>\n",
              "      <td>0</td>\n",
              "      <td>1</td>\n",
              "    </tr>\n",
              "  </tbody>\n",
              "</table>\n",
              "<p>1005 rows × 6 columns</p>\n",
              "</div>"
            ],
            "text/plain": [
              "                                     ringkasan_sinopsis  Drama  ...  Laga  Romantis\n",
              "0     Raden Mas Said putra sulung Tumenggung Wilarik...      1  ...     0         0\n",
              "1     Soe Hok Gie adalah seorang aktivis yang hidup ...      1  ...     0         0\n",
              "2     Guru Bangsa Tjokroaminoto menceritakan tentang...      1  ...     0         0\n",
              "3     POL menceritakan kisah hidup yang luar biasa d...      1  ...     0         0\n",
              "4     Perjalanan pahlawan Indonesia KH Ahmad Dahlan ...      1  ...     0         0\n",
              "...                                                 ...    ...  ...   ...       ...\n",
              "1000  Winter in Tokyo berpusat pada kehidupan Ishida...      0  ...     0         1\n",
              "1001  Markonah melarikan diri ke Jakarta karena akan...      0  ...     0         1\n",
              "1002  Tempat aking lebih dari 36 jam, Last Night ada...      0  ...     0         1\n",
              "1003  Proyek baru ini adalah tentang seorang lelaki ...      0  ...     0         1\n",
              "1004  Atika (Meriam Bellina) mantan penyanyi tenar, ...      0  ...     0         1\n",
              "\n",
              "[1005 rows x 6 columns]"
            ]
          },
          "metadata": {
            "tags": []
          },
          "execution_count": 24
        }
      ]
    },
    {
      "cell_type": "markdown",
      "metadata": {
        "id": "w1iE1tPk_2TX"
      },
      "source": [
        "Agar dapat diproses oleh model, kita perlu mengubah nilai-nilai dari dataframe ke dalam tipe data numpy array menggunakan atribut values."
      ]
    },
    {
      "cell_type": "code",
      "metadata": {
        "id": "-opQ19zf_UYS"
      },
      "source": [
        "    sinopsis = df_baru['ringkasan_sinopsis'].values\n",
        "    label = df_baru[['Drama', 'Horor', 'Komedi', 'Laga', 'Romantis']].values"
      ],
      "execution_count": null,
      "outputs": []
    },
    {
      "cell_type": "code",
      "metadata": {
        "colab": {
          "base_uri": "https://localhost:8080/"
        },
        "id": "qsEVkfai_-K9",
        "outputId": "474cd081-3571-44e8-86e8-2211912226cb"
      },
      "source": [
        "sinopsis"
      ],
      "execution_count": null,
      "outputs": [
        {
          "output_type": "execute_result",
          "data": {
            "text/plain": [
              "array(['Raden Mas Said putra sulung Tumenggung Wilarikta di bawah Kerajaan Majapahit yang berkuasa di wilayah Tuban melihat sekeluarga miskin yang menderita busung lapar. Ia merasa sangat prihatin dan hati nuraninya tergugah untuk menolong. Kemudian ia mencoba secara diam-diam mengambil makanan dari lumbung orang tuanya. Perbuatan itu tidak disetujui orang tuanya bahkan ia dihukum sekap di gudang makanan itu. Sejak kejadian itu RM Said yang tumbuh dewasa tidak betah tinggal di rumah. Ia berkelana dari daerah satu ke daerah lainnya. Dari sanalah ia tahu betapa banyak penyelewengan dan kesewenang-wenangan para lurah yang munafik. Mereka selalu mengkambing-hitamkan Tumenggung untuk menutupi kejahatannya. Atas laporan RM Said ayahnya kemudian sadar. Tetapi kemudian ia dianggap sebagai sumber fitnah. Dalam kelananya kemudian ia bertemu dengan Sunan Bonang yang banyak mencurahkan ilmunya kepada RM Said. Ia pun kemudian melakukan tapa di pinggir kali. Berkat ketabahannya menghadapi berbagai cobaan RM Said mendapatkan \"Nur\" (kekuatan) dari Ilahi. Kemudian ia diangkat menjadi Wali yang terkenal dalam deretan nama Sembilan Wali (Wali Sanga) dengan nama Sunan Kalijaga.',\n",
              "       'Soe Hok Gie adalah seorang aktivis yang hidup di tahun enam puluhan. Terletak di era paling gelap sejarah modern Indonesia GIE adalah interpretasi dari apa yang terjadi berdasarkan jurnalnya.',\n",
              "       'Guru Bangsa Tjokroaminoto menceritakan tentang setelah lepas dari era tanam paksa di akhir tahun 1800 Hindia Belanda memasuki babak baru yang berpengaruh dalam kehidupan masyarakatnya yaitu dengan gerakan politik etis yang dilakukan oleh pemerintah Belanda. Tetapi kemiskinan masih banyak terjadi. Rakyat banyak yang belum mengenyam pendidikan dan kesenjangan sosial antaretnis dan kasta masih terlihat jelas.',\n",
              "       ...,\n",
              "       'Tempat aking lebih dari 36 jam, Last Night adalah tentang pasangan yang sudah menikah, Joanna dan Michael Reed, yang berbagi apartemen di New York City. Joanna adalah seorang penulis dan Michael adalah agen real estat komersial. Selama pesta dengan rekan-rekan Michael, Joanna memperhatikan dia menghabiskan waktu dengan rekan kerja yang menarik, Laura Nunez, dan bertanya-tanya mengapa dia belum disebutkan sebelumnya. Joanna mencurigai Michael berselingkuh, dan menghadapkannya ketika mereka kembali ke rumah. Mereka bertengkar, tetapi berdamai nanti malam itu. Keesokan harinya, Michael pergi dalam perjalanan bisnis ke Philadelphia bersama rekan-rekannya Laura dan Andy; Joanna tetap tinggal untuk mengerjakan sebuah novel. Saat mendapatkan kopi, Joanna bertemu mantan pacarnya Alex Mann, dan mereka pergi ke bar di kemudian hari. Mereka makan malam dengan dua orang teman Alex, Sandra dan Truman, dan mereka mendiskusikan hubungan masa lalu mereka dan pernikahan Joanna dengan Michael. Joanna telah bertemu Michael di Paris saat mengerjakan sebuah cerita; dia tidak pernah memberi tahu Michael tentang Alex.',\n",
              "       'Proyek baru ini adalah tentang seorang lelaki Indo-Trinidadian yang kembali ke India untuk mencari akarnya, tetapi hidupnya menjadi terbalik ketika mantannya terlihat ingin menyelesaikan perceraian mereka. Film berlangsung di T & T dan India, dan mengikuti perjalanan pasangan bersama-sama saat mereka memetakan masa lalu yang hilang, dan menemukan diri mereka secara tak terduga menghidupkan kembali romantisme mereka.',\n",
              "       'Atika (Meriam Bellina) mantan penyanyi tenar, berusaha untuk bangkit kembali dari lembah narkotika. Kepada ibunya yang mengajak kembali ke Yogya, ia menyatakan tetap tinggal di Jakarta dan menetap di rumah budenya. Usahanya menemui jalan buntu. Semua kawan dan pemilik tempat hiburan menolak memakai dia. Bahkan ia sempat ditipu seorang panitia pertunjukan. Meski demikian keberuntungan datang juga. Perkenalannya dengan Sakti (Achan Rachman), seorang koreografer membuatnya bergairah untuk meniti karier kembali. Namun cobaan datang lagi. Pacar lama Sakti, Elisa (Henidar Amroe), yang telah kawin dengan anak pengusaha kaya, Willy (August Melasz) berusaha untuk memisahkan mereka. Namun Atika kembali bangkit dan berhasil.'],\n",
              "      dtype=object)"
            ]
          },
          "metadata": {
            "tags": []
          },
          "execution_count": 26
        }
      ]
    },
    {
      "cell_type": "code",
      "metadata": {
        "colab": {
          "base_uri": "https://localhost:8080/"
        },
        "id": "-gMwmNgX__bF",
        "outputId": "ed4ba6be-7c9d-4381-a5ff-78f1a5446fe9"
      },
      "source": [
        "label"
      ],
      "execution_count": null,
      "outputs": [
        {
          "output_type": "execute_result",
          "data": {
            "text/plain": [
              "array([[1, 0, 0, 0, 0],\n",
              "       [1, 0, 0, 0, 0],\n",
              "       [1, 0, 0, 0, 0],\n",
              "       ...,\n",
              "       [0, 0, 0, 0, 1],\n",
              "       [0, 0, 0, 0, 1],\n",
              "       [0, 0, 0, 0, 1]], dtype=uint8)"
            ]
          },
          "metadata": {
            "tags": []
          },
          "execution_count": 27
        }
      ]
    },
    {
      "cell_type": "markdown",
      "metadata": {
        "id": "jq2InHYdAIjo"
      },
      "source": [
        "Lalu, bagi data untuk training dan data untuk testing."
      ]
    },
    {
      "cell_type": "code",
      "metadata": {
        "id": "DDD78UmQAE1r"
      },
      "source": [
        "    from sklearn.model_selection import train_test_split\n",
        "    sinopsis_latih, sinopsis_test, label_latih, label_test = train_test_split(sinopsis, label, test_size=0.2)"
      ],
      "execution_count": null,
      "outputs": []
    },
    {
      "cell_type": "markdown",
      "metadata": {
        "id": "pNYskbhFAPxo"
      },
      "source": [
        "Kemudian kita ubah setiap kata pada dataset kita ke dalam bilangan numerik dengan fungsi Tokenizer. Setelah tokenisasi selesai, kita perlu membuat mengonversi setiap sampel menjadi sequence."
      ]
    },
    {
      "cell_type": "code",
      "metadata": {
        "id": "9dwxnNpTAOBv"
      },
      "source": [
        "    from tensorflow.keras.preprocessing.text import Tokenizer\n",
        "    from tensorflow.keras.preprocessing.sequence import pad_sequences\n",
        "     \n",
        "    tokenizer = Tokenizer(num_words=5000, oov_token='x')\n",
        "    tokenizer.fit_on_texts(sinopsis_latih) \n",
        "    tokenizer.fit_on_texts(sinopsis_test)\n",
        "     \n",
        "    sekuens_latih = tokenizer.texts_to_sequences(sinopsis_latih)\n",
        "    sekuens_test = tokenizer.texts_to_sequences(sinopsis_test)\n",
        "     \n",
        "    padded_latih = pad_sequences(sekuens_latih) \n",
        "    padded_test = pad_sequences(sekuens_test)"
      ],
      "execution_count": null,
      "outputs": []
    },
    {
      "cell_type": "code",
      "metadata": {
        "colab": {
          "base_uri": "https://localhost:8080/"
        },
        "id": "jSA1wpgXAVpd",
        "outputId": "f355229e-0622-4bb8-d745-194308a516d5"
      },
      "source": [
        "padded_latih"
      ],
      "execution_count": null,
      "outputs": [
        {
          "output_type": "execute_result",
          "data": {
            "text/plain": [
              "array([[   0,    0,    0, ..., 4678,   13, 4678],\n",
              "       [   0,    0,    0, ...,  263,  355,  728],\n",
              "       [   0,    0,    0, ...,   32,   22,  318],\n",
              "       ...,\n",
              "       [   0,    0,    0, ...,  141, 4678, 4678],\n",
              "       [   0,    0,    0, ..., 4129,   75, 4678],\n",
              "       [   0,    0,    0, ...,   60,  276,  211]], dtype=int32)"
            ]
          },
          "metadata": {
            "tags": []
          },
          "execution_count": 30
        }
      ]
    },
    {
      "cell_type": "markdown",
      "metadata": {
        "id": "J3Cs4qzFAg88"
      },
      "source": [
        "Untuk arsitektur model kita menggunakan layer Embedding dengan dimensi embedding sebesar 16, serta dimensi dari input sebesar nilai num_words pada objek tokenizer. Jangan lupa panggil fungsi compile dan tentukan optimizer serta loss function yang akan dipakai oleh model."
      ]
    },
    {
      "cell_type": "code",
      "metadata": {
        "id": "dbifJmruAZ7c"
      },
      "source": [
        "    import tensorflow as tf\n",
        "    model = tf.keras.Sequential([\n",
        "        tf.keras.layers.Embedding(input_dim=5000, output_dim=16),\n",
        "        tf.keras.layers.LSTM(64),\n",
        "        tf.keras.layers.Dense(128, activation='relu'),\n",
        "        tf.keras.layers.Dense(64, activation='relu'),\n",
        "        tf.keras.layers.Dense(5, activation='softmax')\n",
        "    ])\n",
        "    model.compile(loss='categorical_crossentropy',optimizer='adam',metrics=['accuracy'])"
      ],
      "execution_count": null,
      "outputs": []
    },
    {
      "cell_type": "markdown",
      "metadata": {
        "id": "e0fsn79sAsLH"
      },
      "source": [
        "Terakhir kita dapat mulai melatih model kita dengan memanggil fungsi fit()."
      ]
    },
    {
      "cell_type": "code",
      "metadata": {
        "colab": {
          "base_uri": "https://localhost:8080/"
        },
        "id": "-BWBK60bAlhb",
        "outputId": "a442de15-8fb3-4415-f089-fac44cff09de"
      },
      "source": [
        "    num_epochs = 30\n",
        "    history = model.fit(padded_latih, label_latih, epochs=num_epochs, \n",
        "                        validation_data=(padded_test, label_test), verbose=2)"
      ],
      "execution_count": null,
      "outputs": [
        {
          "output_type": "stream",
          "text": [
            "Epoch 1/30\n",
            "26/26 - 15s - loss: 1.6099 - accuracy: 0.1841 - val_loss: 1.6114 - val_accuracy: 0.1592\n",
            "Epoch 2/30\n",
            "26/26 - 1s - loss: 1.6057 - accuracy: 0.2114 - val_loss: 1.6145 - val_accuracy: 0.1642\n",
            "Epoch 3/30\n",
            "26/26 - 1s - loss: 1.5768 - accuracy: 0.3197 - val_loss: 1.6095 - val_accuracy: 0.2537\n",
            "Epoch 4/30\n",
            "26/26 - 1s - loss: 1.3421 - accuracy: 0.5000 - val_loss: 1.6969 - val_accuracy: 0.2537\n",
            "Epoch 5/30\n",
            "26/26 - 1s - loss: 0.8888 - accuracy: 0.5833 - val_loss: 2.0037 - val_accuracy: 0.3184\n",
            "Epoch 6/30\n",
            "26/26 - 1s - loss: 0.5103 - accuracy: 0.8259 - val_loss: 2.7253 - val_accuracy: 0.3134\n",
            "Epoch 7/30\n",
            "26/26 - 1s - loss: 0.2684 - accuracy: 0.9117 - val_loss: 2.8050 - val_accuracy: 0.2985\n",
            "Epoch 8/30\n",
            "26/26 - 1s - loss: 0.1483 - accuracy: 0.9590 - val_loss: 3.0948 - val_accuracy: 0.2836\n",
            "Epoch 9/30\n",
            "26/26 - 1s - loss: 0.0428 - accuracy: 0.9925 - val_loss: 3.7368 - val_accuracy: 0.3085\n",
            "Epoch 10/30\n",
            "26/26 - 1s - loss: 0.0156 - accuracy: 0.9988 - val_loss: 3.9989 - val_accuracy: 0.3035\n",
            "Epoch 11/30\n",
            "26/26 - 1s - loss: 0.0096 - accuracy: 0.9975 - val_loss: 4.3163 - val_accuracy: 0.3035\n",
            "Epoch 12/30\n",
            "26/26 - 1s - loss: 0.0043 - accuracy: 0.9988 - val_loss: 4.5316 - val_accuracy: 0.2935\n",
            "Epoch 13/30\n",
            "26/26 - 1s - loss: 0.0039 - accuracy: 0.9975 - val_loss: 4.6519 - val_accuracy: 0.2985\n",
            "Epoch 14/30\n",
            "26/26 - 1s - loss: 0.0021 - accuracy: 1.0000 - val_loss: 4.9743 - val_accuracy: 0.2935\n",
            "Epoch 15/30\n",
            "26/26 - 1s - loss: 0.0013 - accuracy: 1.0000 - val_loss: 5.1468 - val_accuracy: 0.2985\n",
            "Epoch 16/30\n",
            "26/26 - 1s - loss: 0.0011 - accuracy: 1.0000 - val_loss: 5.3193 - val_accuracy: 0.2786\n",
            "Epoch 17/30\n",
            "26/26 - 1s - loss: 7.3664e-04 - accuracy: 1.0000 - val_loss: 5.5342 - val_accuracy: 0.2786\n",
            "Epoch 18/30\n",
            "26/26 - 1s - loss: 6.4943e-04 - accuracy: 1.0000 - val_loss: 5.6849 - val_accuracy: 0.2786\n",
            "Epoch 19/30\n",
            "26/26 - 1s - loss: 4.8666e-04 - accuracy: 1.0000 - val_loss: 5.8300 - val_accuracy: 0.2836\n",
            "Epoch 20/30\n",
            "26/26 - 1s - loss: 4.1227e-04 - accuracy: 1.0000 - val_loss: 5.9832 - val_accuracy: 0.2786\n",
            "Epoch 21/30\n",
            "26/26 - 1s - loss: 4.1417e-04 - accuracy: 1.0000 - val_loss: 6.0871 - val_accuracy: 0.2786\n",
            "Epoch 22/30\n",
            "26/26 - 1s - loss: 3.3640e-04 - accuracy: 1.0000 - val_loss: 6.2047 - val_accuracy: 0.2886\n",
            "Epoch 23/30\n",
            "26/26 - 1s - loss: 3.0489e-04 - accuracy: 1.0000 - val_loss: 6.3075 - val_accuracy: 0.2786\n",
            "Epoch 24/30\n",
            "26/26 - 1s - loss: 2.6366e-04 - accuracy: 1.0000 - val_loss: 6.4506 - val_accuracy: 0.2786\n",
            "Epoch 25/30\n",
            "26/26 - 1s - loss: 2.2600e-04 - accuracy: 1.0000 - val_loss: 6.5680 - val_accuracy: 0.2786\n",
            "Epoch 26/30\n",
            "26/26 - 2s - loss: 2.0686e-04 - accuracy: 1.0000 - val_loss: 6.6771 - val_accuracy: 0.2786\n",
            "Epoch 27/30\n",
            "26/26 - 2s - loss: 1.8298e-04 - accuracy: 1.0000 - val_loss: 6.7727 - val_accuracy: 0.2786\n",
            "Epoch 28/30\n",
            "26/26 - 1s - loss: 1.7300e-04 - accuracy: 1.0000 - val_loss: 6.8814 - val_accuracy: 0.2836\n",
            "Epoch 29/30\n",
            "26/26 - 2s - loss: 1.5363e-04 - accuracy: 1.0000 - val_loss: 6.9818 - val_accuracy: 0.2786\n",
            "Epoch 30/30\n",
            "26/26 - 2s - loss: 1.4382e-04 - accuracy: 1.0000 - val_loss: 7.0356 - val_accuracy: 0.2736\n"
          ],
          "name": "stdout"
        }
      ]
    },
    {
      "cell_type": "markdown",
      "metadata": {
        "id": "ZuuxUcgjB3iD"
      },
      "source": [
        "Akurasi dari model kita menunjukkan terjadinya overfitting karena akurasi pada data testing sangat besar, sedangkan akurasi pada data validasi jauh lebih kecil. Hal ini masih sangat luar biasa karena kita hanya memiliki 1000 buah sampel data!"
      ]
    }
  ]
}